{
  "nbformat": 4,
  "nbformat_minor": 0,
  "metadata": {
    "colab": {
      "provenance": [],
      "collapsed_sections": [],
      "authorship_tag": "ABX9TyP7tTMxnWYY2unFOhh1Vobj",
      "include_colab_link": true
    },
    "kernelspec": {
      "name": "python3",
      "display_name": "Python 3"
    },
    "language_info": {
      "name": "python"
    }
  },
  "cells": [
    {
      "cell_type": "markdown",
      "metadata": {
        "id": "view-in-github",
        "colab_type": "text"
      },
      "source": [
        "<a href=\"https://colab.research.google.com/github/nadine-e-pereira/PracticePython/blob/main/ListaExerciciosPython.ipynb\" target=\"_parent\"><img src=\"https://colab.research.google.com/assets/colab-badge.svg\" alt=\"Open In Colab\"/></a>"
      ]
    },
    {
      "cell_type": "code",
      "execution_count": null,
      "metadata": {
        "id": "McBqlStuR6iK"
      },
      "outputs": [],
      "source": [
        "#Exercício 1\n",
        "\n",
        "for contador in range(1,5):\n",
        "  print('')\n",
        "  print(f'Colega: {contador}')\n",
        "  \n",
        "  nome = input(f\"Entre com o nome: {nome} \")\n",
        "\n",
        "  idade = int(input(f\"Entre com a idade: {idade}\"))\n",
        "  peso = int (input(f\"Entre com o peso: {peso}\"))\n",
        "  altura = float(input(f\"Entre com a altura: {altura}\"))\n",
        "\n",
        "  print(f'Nome: {nome}')\n",
        "  print(f'Idade: {idade}')\n",
        "  print(f'Peso: {peso}')\n",
        "  print(f'Altura: {altura}')\n",
        "\n",
        "if idade > 17 and peso > 59 and altura > 169 :\n",
        "    print(\"Está apto(a).\")\n",
        "else:\n",
        "    print(\"Não está apto(a) para o exército.\")"
      ]
    },
    {
      "cell_type": "code",
      "source": [
        "#Exercíco 2\n",
        "\n",
        "palavra = \"Anotaram a data da maratona\"\n",
        "palavra_invertida = palavra [::-1]\n",
        "print(f'Palavra invertida: {palavra_invertida}')\n"
      ],
      "metadata": {
        "colab": {
          "base_uri": "https://localhost:8080/"
        },
        "id": "B5nPQ5WRWMyY",
        "outputId": "7c10aa1d-e337-45cc-eb69-a06045ffc315"
      },
      "execution_count": null,
      "outputs": [
        {
          "output_type": "stream",
          "name": "stdout",
          "text": [
            "Palavra invertida: anotaram ad atad a maratonA\n"
          ]
        }
      ]
    },
    {
      "cell_type": "code",
      "source": [
        "#Exercício 3\n",
        "\n",
        "qt_dias = input (\"Informe a quantidade de dias para descobrir quantos segundos têm: \")\n",
        "qt_dias = int(qt_dias)\n",
        "\n",
        "segundos = qt_dias*24*60*60\n",
        "segundos = int(segundos)\n",
        "\n",
        "print(f'{qt_dias} dia(as) tem {segundos:,.2f} segundos.')"
      ],
      "metadata": {
        "colab": {
          "base_uri": "https://localhost:8080/"
        },
        "id": "nJ2_6mbSs367",
        "outputId": "edb7ec8d-7db6-4a7e-a04a-f8bac8a7ac06"
      },
      "execution_count": null,
      "outputs": [
        {
          "output_type": "stream",
          "name": "stdout",
          "text": [
            "Informe a quantidade de dias para descobrir quantos segundos têm: 3\n",
            "3 dia(as) tem 259,200.00 segundos.\n"
          ]
        }
      ]
    },
    {
      "cell_type": "code",
      "source": [
        "#Exercício 4\n",
        "\n",
        "distancia = input(\"Informe a distância: \")\n",
        "distancia = float(distancia)\n",
        "velocidade = input(\"Informe a velocidade média: \")\n",
        "velocidade = float(velocidade)\n",
        "\n",
        "tempo = distancia/velocidade\n",
        "tempo = float(tempo)\n",
        "\n",
        "print(f'A previsão de tempo de chegada da viagem é de {tempo:,.2f} min.')"
      ],
      "metadata": {
        "colab": {
          "base_uri": "https://localhost:8080/"
        },
        "id": "rXomo8ovv0ou",
        "outputId": "856c59d5-fa61-4f0a-f511-106b689773c6"
      },
      "execution_count": null,
      "outputs": [
        {
          "output_type": "stream",
          "name": "stdout",
          "text": [
            "Informe a distância: 433\n",
            "Informe a velocidade média: 95\n",
            "A previsão de tempo de chegada da viagem é de 4.56 min.\n"
          ]
        }
      ]
    },
    {
      "cell_type": "code",
      "source": [
        "#Exercício 5\n",
        "\n",
        "velocidade = input(\"Informe a velocidade: \")\n",
        "velocidade = int(velocidade)\n",
        "\n",
        "if velocidade > 79:\n",
        "  multa = (velocidade-80)*5\n",
        "  print(f'Limite de velocidade ultrapassado. Multa de R$ {multa:,.2f}.')\n",
        "else: \n",
        "  print(f'Dentro do limite de velocidade esperado.')"
      ],
      "metadata": {
        "colab": {
          "base_uri": "https://localhost:8080/"
        },
        "id": "MrPr_ynGydd-",
        "outputId": "bcbfcc95-8fbc-474f-a925-4530f2b54b64"
      },
      "execution_count": null,
      "outputs": [
        {
          "output_type": "stream",
          "name": "stdout",
          "text": [
            "Informe a velocidade: 82\n",
            "Limite de velocidade ultrapassado. Multa de R$ 10.00.\n"
          ]
        }
      ]
    },
    {
      "cell_type": "code",
      "source": [
        "#Exercício 6\n",
        "\n",
        "valor_casa = input(\"Informe o valor da casa que deseja comprar: \")\n",
        "valor_casa = float(valor_casa)\n",
        "\n",
        "salario = input(\"Informe seu salário: \")\n",
        "salario = float(salario)\n",
        "\n",
        "qt_meses = input(\"Quantidade de meses de pagamento: \")\n",
        "qt_meses = float(qt_meses)\n",
        "\n",
        "prestacao = valor_casa/qt_meses\n",
        "\n",
        "if prestacao > (salario*100)/30 :\n",
        "  print(f'Não está apto para empréstimo.')\n",
        "else:\n",
        "  print(f'Para comprar uma casa de R$ {valor_casa:,.2f} em {qt_meses} meses, pagará prestações de R$ {prestacao:,.2f}.')"
      ],
      "metadata": {
        "colab": {
          "base_uri": "https://localhost:8080/"
        },
        "id": "v0f9pFqJ0szX",
        "outputId": "42d2875a-d978-4990-fff6-ab5b093c1e72"
      },
      "execution_count": null,
      "outputs": [
        {
          "output_type": "stream",
          "name": "stdout",
          "text": [
            "Informe o valor da casa que deseja comprar: 160000\n",
            "Informe seu salário: 2000\n",
            "Quantidade de meses de pagamento: 72\n",
            "Para comprar uma casa de R$ 160,000.00 em 72.0 meses, pagará prestações de R$ 2,222.22.\n"
          ]
        }
      ]
    },
    {
      "cell_type": "code",
      "source": [
        "#Exercício 7\n",
        "\n",
        "numero = input(\"Tabuada de: \")\n",
        "numero = int(numero)\n",
        "\n",
        "inicial = input(\"De: \")\n",
        "inicial = int(inicial)\n",
        "\n",
        "multiplicador = input(\"Até: \")\n",
        "multiplicador = int(multiplicador)\n",
        "\n",
        "print(f'')\n",
        "\n",
        "for contador in range(inicial, multiplicador+1):\n",
        "  print(f'{numero} X {contador} = {numero*contador}')"
      ],
      "metadata": {
        "colab": {
          "base_uri": "https://localhost:8080/"
        },
        "id": "b3Rc_uSv6T6X",
        "outputId": "4057b465-c468-432c-d9f5-3ef3e026099f"
      },
      "execution_count": null,
      "outputs": [
        {
          "output_type": "stream",
          "name": "stdout",
          "text": [
            "Tabuada de: 3\n",
            "De: 1\n",
            "Até: 4\n",
            "\n",
            "3 X 1 = 3\n",
            "3 X 2 = 6\n",
            "3 X 3 = 9\n",
            "3 X 4 = 12\n"
          ]
        }
      ]
    },
    {
      "cell_type": "code",
      "source": [
        "# Exercício 8\n",
        "\n",
        "dividendo = int(input(\"Dividendo: \"))\n",
        "divisor = int(input(\"Divisor: \"))\n",
        "quociente = 0\n",
        "x = dividendo\n",
        "while x >= divisor:\n",
        "    x = x - divisor\n",
        "    quociente = quociente + 1\n",
        "resto = x\n",
        "print(f\"O resto de {dividendo} / {divisor} é {resto}.\")\n"
      ],
      "metadata": {
        "id": "Cy70y0UX6eoq",
        "colab": {
          "base_uri": "https://localhost:8080/"
        },
        "outputId": "340b8dae-2165-4850-c39c-5626da161e0e"
      },
      "execution_count": null,
      "outputs": [
        {
          "output_type": "stream",
          "name": "stdout",
          "text": [
            "Dividendo: 19\n",
            "Divisor: 3\n",
            "O resto de 19 / 3 é 1.\n"
          ]
        }
      ]
    },
    {
      "cell_type": "code",
      "source": [
        "#Exercício 9\n",
        "\n",
        "lado1 = input(\"Informe o lado 1 do trinângulo: \")\n",
        "lado1 = int(lado1)\n",
        "lado2 = input(\"Informe o lado 2 do trinângulo: \")\n",
        "lado2 = int(lado2)\n",
        "lado3 = input(\"Informe o lado 3 2do trinângulo: \")\n",
        "lado3 = int(lado3)\n",
        "\n",
        "if lado1==lado2==lado3:\n",
        "    tipo = 'Equilátero'\n",
        "elif lado1!=lado2 and lado1!=lado3 and lado2!=lado3:\n",
        "    tipo = 'Escaleno'\n",
        "else: tipo = 'Isósceles'\n",
        "\n",
        "print(f'É um triângulo {tipo}.')\n"
      ],
      "metadata": {
        "id": "eiBCrQsa7s85",
        "colab": {
          "base_uri": "https://localhost:8080/"
        },
        "outputId": "74e2e87b-0a14-4618-81fd-98033dc51444"
      },
      "execution_count": null,
      "outputs": [
        {
          "output_type": "stream",
          "name": "stdout",
          "text": [
            "Informe o lado 1 do trinângulo: 3\n",
            "Informe o lado 2 do trinângulo: 2\n",
            "Informe o lado 3 do trinângulo: 3\n",
            "É um triângulo Isósceles.\n"
          ]
        }
      ]
    },
    {
      "cell_type": "code",
      "source": [
        "#Exercício 10\n",
        "\n",
        "n = int(input(\"Entre com o número: \"))\n",
        "\n",
        "def inverte_numero():\n",
        "    return str(n)[::-1]\n",
        "\n",
        "inverte_numero()"
      ],
      "metadata": {
        "colab": {
          "base_uri": "https://localhost:8080/",
          "height": 53
        },
        "id": "bTC08ToO_MRQ",
        "outputId": "2fb7fdf6-efbd-49cd-ffd4-867e45e17896"
      },
      "execution_count": null,
      "outputs": [
        {
          "name": "stdout",
          "output_type": "stream",
          "text": [
            "Entre com o número: 1290487293074\n"
          ]
        },
        {
          "output_type": "execute_result",
          "data": {
            "text/plain": [
              "'4703927840921'"
            ],
            "application/vnd.google.colaboratory.intrinsic+json": {
              "type": "string"
            }
          },
          "metadata": {},
          "execution_count": 5
        }
      ]
    },
    {
      "cell_type": "code",
      "source": [
        "#Exercício 11\n",
        "\n",
        "palavra = input(\"Informe uma palavra: \")\n",
        "\n",
        "def conta_vogal():\n",
        "  cont = 0\n",
        "  for i in palavra:\n",
        "    if (i == 'a' or i == 'e' or i == 'i' or i == 'o' or i == 'u'):\n",
        "      cont+=1\n",
        "  return cont\n",
        "\n",
        "conta_vogal()"
      ],
      "metadata": {
        "colab": {
          "base_uri": "https://localhost:8080/"
        },
        "id": "uVhN3TMz_v3h",
        "outputId": "fa646ade-d020-4dbf-ed54-740532870be2"
      },
      "execution_count": null,
      "outputs": [
        {
          "name": "stdout",
          "output_type": "stream",
          "text": [
            "Informe uma palavra: banana\n"
          ]
        },
        {
          "output_type": "execute_result",
          "data": {
            "text/plain": [
              "3"
            ]
          },
          "metadata": {},
          "execution_count": 26
        }
      ]
    },
    {
      "cell_type": "code",
      "source": [
        "#Exercício 12\n",
        "\n",
        "from collections import Counter \n",
        "\n",
        "def mais_frequente(Lista): \n",
        "    contador = Counter(Lista) \n",
        "    return contador.most_common(1)[0][0] \n",
        "\n",
        "def quantidade(lista, x): \n",
        "    d = Counter(lista)\n",
        "    return d[x]\n",
        "\n",
        "lista = input(\"Informe uma sequencia de numeros/letras/caracteres:\")\n",
        "print(mais_frequente(lista) + \" aparece \" + str(quantidade(lista, mais_frequente(lista))) + \" vezes.\")"
      ],
      "metadata": {
        "colab": {
          "base_uri": "https://localhost:8080/"
        },
        "id": "XUip4IYFDvJQ",
        "outputId": "18487688-e804-4089-bbac-7677b3b66f66"
      },
      "execution_count": null,
      "outputs": [
        {
          "output_type": "stream",
          "name": "stdout",
          "text": [
            "Informe uma sequencia de numeros/letras/caracteres:AAAAAAAAAACD\n",
            "A aparece 10 vezes.\n"
          ]
        }
      ]
    },
    {
      "cell_type": "code",
      "source": [
        "#Execício 13\n",
        "\n",
        "palavra = input(\"Entre com a palavra/frase e descubra se é palíndroma: \")\n",
        "palavra_invertida = palavra [::-1]\n",
        "print(f'Palavra invertida: {palavra_invertida}')\n",
        "if(palavra.replace(\" \", \"\").lower() == palavra_invertida.replace(\" \", \"\").lower()):\n",
        "  print('É palíndroma.')\n",
        "else:\n",
        "  print('Não é palíndroma.')"
      ],
      "metadata": {
        "id": "HwkpQsM7DWxy"
      },
      "execution_count": null,
      "outputs": []
    }
  ]
}